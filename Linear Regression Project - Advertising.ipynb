{
 "cells": [
  {
   "cell_type": "markdown",
   "id": "dd2f249d-9949-4f2d-a7f4-ad80b52d4fbb",
   "metadata": {},
   "source": [
    "**Problem Statement for the Advertising data**  \n",
    "\n",
    "The dataset file consists of advertising expenditure incurred on different mediums and the overall increase in revenue that was seen during that time. For any business, advertising their products is very essential because it aids in the fast selling of a product, increases the popularity and awareness of the product in the market, which in turn, increases the overall sales for the product. But more than that, what matters for the business is that correct amount of investment should be done upon the advertisements such that it generates good return on investments otherwise it will just lead to an added expenditure.  \n",
    "\n",
    "The dataset contains statistics about the increase in sales of a product in 200 different months, together with advertising budgets in each of these months for different media channels: TV, radio and newspaper. The budget and the increase in sales is in thousands of dollars.  \n",
    "\n",
    "You are expected to implement regression technique and predict what would be the increase in sales given the advertisement expenditure for that month. You are free to use any ML algorithms, evaluate, fine tune and reach a best model. Also derive additional/meaningful insights from the data which can help the organization to decide upon the right channels and amount of investments to be done on each media channel. \n"
   ]
  },
  {
   "cell_type": "markdown",
   "id": "12cdb03e-54d9-481c-a002-f24f852b55e6",
   "metadata": {},
   "source": [
    "# Importing the necessary libraries"
   ]
  },
  {
   "cell_type": "code",
   "execution_count": 3,
   "id": "386aa271-a577-439f-b0e8-93bb5a91def5",
   "metadata": {},
   "outputs": [],
   "source": [
    "import pandas as pd\n",
    "import numpy as np\n",
    "import matplotlib.pyplot as plt\n",
    "import seaborn as sns\n",
    "import math\n",
    "import random as rn\n",
    "import warnings\n",
    "warnings.filterwarnings('ignore')"
   ]
  },
  {
   "cell_type": "markdown",
   "id": "29033fc4-28ff-4830-91e3-00ebc8b7a0bb",
   "metadata": {},
   "source": [
    "# Loading the dataset"
   ]
  },
  {
   "cell_type": "code",
   "execution_count": 5,
   "id": "ec53d989-9d92-4a88-9849-f1ac6bf40fcf",
   "metadata": {},
   "outputs": [],
   "source": [
    "data = pd.read_csv(r\"C:\\Users\\bsai1\\OneDrive\\Desktop\\imarticus\\Machine Learning\\Linear Regression\\Advertising Lin Reg Problem\\Advertising.csv\",index_col=0, header=0)"
   ]
  },
  {
   "cell_type": "code",
   "execution_count": 6,
   "id": "c08fc035-6d64-4597-b593-54b01ec1cc2d",
   "metadata": {},
   "outputs": [
    {
     "data": {
      "text/html": [
       "<div>\n",
       "<style scoped>\n",
       "    .dataframe tbody tr th:only-of-type {\n",
       "        vertical-align: middle;\n",
       "    }\n",
       "\n",
       "    .dataframe tbody tr th {\n",
       "        vertical-align: top;\n",
       "    }\n",
       "\n",
       "    .dataframe thead th {\n",
       "        text-align: right;\n",
       "    }\n",
       "</style>\n",
       "<table border=\"1\" class=\"dataframe\">\n",
       "  <thead>\n",
       "    <tr style=\"text-align: right;\">\n",
       "      <th></th>\n",
       "      <th>TV</th>\n",
       "      <th>radio</th>\n",
       "      <th>newspaper</th>\n",
       "      <th>sales</th>\n",
       "    </tr>\n",
       "  </thead>\n",
       "  <tbody>\n",
       "    <tr>\n",
       "      <th>1</th>\n",
       "      <td>230.1</td>\n",
       "      <td>37.8</td>\n",
       "      <td>69.2</td>\n",
       "      <td>22.1</td>\n",
       "    </tr>\n",
       "    <tr>\n",
       "      <th>2</th>\n",
       "      <td>44.5</td>\n",
       "      <td>39.3</td>\n",
       "      <td>45.1</td>\n",
       "      <td>10.4</td>\n",
       "    </tr>\n",
       "    <tr>\n",
       "      <th>3</th>\n",
       "      <td>17.2</td>\n",
       "      <td>45.9</td>\n",
       "      <td>69.3</td>\n",
       "      <td>9.3</td>\n",
       "    </tr>\n",
       "    <tr>\n",
       "      <th>4</th>\n",
       "      <td>151.5</td>\n",
       "      <td>41.3</td>\n",
       "      <td>58.5</td>\n",
       "      <td>18.5</td>\n",
       "    </tr>\n",
       "    <tr>\n",
       "      <th>5</th>\n",
       "      <td>180.8</td>\n",
       "      <td>10.8</td>\n",
       "      <td>58.4</td>\n",
       "      <td>12.9</td>\n",
       "    </tr>\n",
       "    <tr>\n",
       "      <th>...</th>\n",
       "      <td>...</td>\n",
       "      <td>...</td>\n",
       "      <td>...</td>\n",
       "      <td>...</td>\n",
       "    </tr>\n",
       "    <tr>\n",
       "      <th>196</th>\n",
       "      <td>38.2</td>\n",
       "      <td>3.7</td>\n",
       "      <td>13.8</td>\n",
       "      <td>7.6</td>\n",
       "    </tr>\n",
       "    <tr>\n",
       "      <th>197</th>\n",
       "      <td>94.2</td>\n",
       "      <td>4.9</td>\n",
       "      <td>8.1</td>\n",
       "      <td>9.7</td>\n",
       "    </tr>\n",
       "    <tr>\n",
       "      <th>198</th>\n",
       "      <td>177.0</td>\n",
       "      <td>9.3</td>\n",
       "      <td>6.4</td>\n",
       "      <td>12.8</td>\n",
       "    </tr>\n",
       "    <tr>\n",
       "      <th>199</th>\n",
       "      <td>283.6</td>\n",
       "      <td>42.0</td>\n",
       "      <td>66.2</td>\n",
       "      <td>25.5</td>\n",
       "    </tr>\n",
       "    <tr>\n",
       "      <th>200</th>\n",
       "      <td>232.1</td>\n",
       "      <td>8.6</td>\n",
       "      <td>8.7</td>\n",
       "      <td>13.4</td>\n",
       "    </tr>\n",
       "  </tbody>\n",
       "</table>\n",
       "<p>200 rows × 4 columns</p>\n",
       "</div>"
      ],
      "text/plain": [
       "        TV  radio  newspaper  sales\n",
       "1    230.1   37.8       69.2   22.1\n",
       "2     44.5   39.3       45.1   10.4\n",
       "3     17.2   45.9       69.3    9.3\n",
       "4    151.5   41.3       58.5   18.5\n",
       "5    180.8   10.8       58.4   12.9\n",
       "..     ...    ...        ...    ...\n",
       "196   38.2    3.7       13.8    7.6\n",
       "197   94.2    4.9        8.1    9.7\n",
       "198  177.0    9.3        6.4   12.8\n",
       "199  283.6   42.0       66.2   25.5\n",
       "200  232.1    8.6        8.7   13.4\n",
       "\n",
       "[200 rows x 4 columns]"
      ]
     },
     "execution_count": 6,
     "metadata": {},
     "output_type": "execute_result"
    }
   ],
   "source": [
    "data"
   ]
  },
  {
   "cell_type": "markdown",
   "id": "5e61bbea-f87d-4aa3-b879-8d48ca9643c9",
   "metadata": {},
   "source": [
    "# Basic EDA"
   ]
  },
  {
   "cell_type": "code",
   "execution_count": 8,
   "id": "5fee76e1-501d-452c-a351-7710b985d75b",
   "metadata": {},
   "outputs": [
    {
     "data": {
      "text/html": [
       "<div>\n",
       "<style scoped>\n",
       "    .dataframe tbody tr th:only-of-type {\n",
       "        vertical-align: middle;\n",
       "    }\n",
       "\n",
       "    .dataframe tbody tr th {\n",
       "        vertical-align: top;\n",
       "    }\n",
       "\n",
       "    .dataframe thead th {\n",
       "        text-align: right;\n",
       "    }\n",
       "</style>\n",
       "<table border=\"1\" class=\"dataframe\">\n",
       "  <thead>\n",
       "    <tr style=\"text-align: right;\">\n",
       "      <th></th>\n",
       "      <th>TV</th>\n",
       "      <th>radio</th>\n",
       "      <th>newspaper</th>\n",
       "      <th>sales</th>\n",
       "    </tr>\n",
       "  </thead>\n",
       "  <tbody>\n",
       "    <tr>\n",
       "      <th>1</th>\n",
       "      <td>230.1</td>\n",
       "      <td>37.8</td>\n",
       "      <td>69.2</td>\n",
       "      <td>22.1</td>\n",
       "    </tr>\n",
       "    <tr>\n",
       "      <th>2</th>\n",
       "      <td>44.5</td>\n",
       "      <td>39.3</td>\n",
       "      <td>45.1</td>\n",
       "      <td>10.4</td>\n",
       "    </tr>\n",
       "    <tr>\n",
       "      <th>3</th>\n",
       "      <td>17.2</td>\n",
       "      <td>45.9</td>\n",
       "      <td>69.3</td>\n",
       "      <td>9.3</td>\n",
       "    </tr>\n",
       "    <tr>\n",
       "      <th>4</th>\n",
       "      <td>151.5</td>\n",
       "      <td>41.3</td>\n",
       "      <td>58.5</td>\n",
       "      <td>18.5</td>\n",
       "    </tr>\n",
       "    <tr>\n",
       "      <th>5</th>\n",
       "      <td>180.8</td>\n",
       "      <td>10.8</td>\n",
       "      <td>58.4</td>\n",
       "      <td>12.9</td>\n",
       "    </tr>\n",
       "  </tbody>\n",
       "</table>\n",
       "</div>"
      ],
      "text/plain": [
       "      TV  radio  newspaper  sales\n",
       "1  230.1   37.8       69.2   22.1\n",
       "2   44.5   39.3       45.1   10.4\n",
       "3   17.2   45.9       69.3    9.3\n",
       "4  151.5   41.3       58.5   18.5\n",
       "5  180.8   10.8       58.4   12.9"
      ]
     },
     "execution_count": 8,
     "metadata": {},
     "output_type": "execute_result"
    }
   ],
   "source": [
    "data.head()"
   ]
  },
  {
   "cell_type": "code",
   "execution_count": 9,
   "id": "8c9bb4c5-42c6-4bd1-bbe5-742e0a39d919",
   "metadata": {},
   "outputs": [
    {
     "data": {
      "text/html": [
       "<div>\n",
       "<style scoped>\n",
       "    .dataframe tbody tr th:only-of-type {\n",
       "        vertical-align: middle;\n",
       "    }\n",
       "\n",
       "    .dataframe tbody tr th {\n",
       "        vertical-align: top;\n",
       "    }\n",
       "\n",
       "    .dataframe thead th {\n",
       "        text-align: right;\n",
       "    }\n",
       "</style>\n",
       "<table border=\"1\" class=\"dataframe\">\n",
       "  <thead>\n",
       "    <tr style=\"text-align: right;\">\n",
       "      <th></th>\n",
       "      <th>TV</th>\n",
       "      <th>radio</th>\n",
       "      <th>newspaper</th>\n",
       "      <th>sales</th>\n",
       "    </tr>\n",
       "  </thead>\n",
       "  <tbody>\n",
       "    <tr>\n",
       "      <th>196</th>\n",
       "      <td>38.2</td>\n",
       "      <td>3.7</td>\n",
       "      <td>13.8</td>\n",
       "      <td>7.6</td>\n",
       "    </tr>\n",
       "    <tr>\n",
       "      <th>197</th>\n",
       "      <td>94.2</td>\n",
       "      <td>4.9</td>\n",
       "      <td>8.1</td>\n",
       "      <td>9.7</td>\n",
       "    </tr>\n",
       "    <tr>\n",
       "      <th>198</th>\n",
       "      <td>177.0</td>\n",
       "      <td>9.3</td>\n",
       "      <td>6.4</td>\n",
       "      <td>12.8</td>\n",
       "    </tr>\n",
       "    <tr>\n",
       "      <th>199</th>\n",
       "      <td>283.6</td>\n",
       "      <td>42.0</td>\n",
       "      <td>66.2</td>\n",
       "      <td>25.5</td>\n",
       "    </tr>\n",
       "    <tr>\n",
       "      <th>200</th>\n",
       "      <td>232.1</td>\n",
       "      <td>8.6</td>\n",
       "      <td>8.7</td>\n",
       "      <td>13.4</td>\n",
       "    </tr>\n",
       "  </tbody>\n",
       "</table>\n",
       "</div>"
      ],
      "text/plain": [
       "        TV  radio  newspaper  sales\n",
       "196   38.2    3.7       13.8    7.6\n",
       "197   94.2    4.9        8.1    9.7\n",
       "198  177.0    9.3        6.4   12.8\n",
       "199  283.6   42.0       66.2   25.5\n",
       "200  232.1    8.6        8.7   13.4"
      ]
     },
     "execution_count": 9,
     "metadata": {},
     "output_type": "execute_result"
    }
   ],
   "source": [
    "data.tail()"
   ]
  },
  {
   "cell_type": "code",
   "execution_count": 10,
   "id": "07dc2a1f-e082-42a5-96ee-9ea643de7de1",
   "metadata": {},
   "outputs": [
    {
     "data": {
      "text/html": [
       "<div>\n",
       "<style scoped>\n",
       "    .dataframe tbody tr th:only-of-type {\n",
       "        vertical-align: middle;\n",
       "    }\n",
       "\n",
       "    .dataframe tbody tr th {\n",
       "        vertical-align: top;\n",
       "    }\n",
       "\n",
       "    .dataframe thead th {\n",
       "        text-align: right;\n",
       "    }\n",
       "</style>\n",
       "<table border=\"1\" class=\"dataframe\">\n",
       "  <thead>\n",
       "    <tr style=\"text-align: right;\">\n",
       "      <th></th>\n",
       "      <th>TV</th>\n",
       "      <th>radio</th>\n",
       "      <th>newspaper</th>\n",
       "      <th>sales</th>\n",
       "    </tr>\n",
       "  </thead>\n",
       "  <tbody>\n",
       "    <tr>\n",
       "      <th>count</th>\n",
       "      <td>200.000000</td>\n",
       "      <td>200.000000</td>\n",
       "      <td>200.000000</td>\n",
       "      <td>200.000000</td>\n",
       "    </tr>\n",
       "    <tr>\n",
       "      <th>mean</th>\n",
       "      <td>147.042500</td>\n",
       "      <td>23.264000</td>\n",
       "      <td>30.554000</td>\n",
       "      <td>14.022500</td>\n",
       "    </tr>\n",
       "    <tr>\n",
       "      <th>std</th>\n",
       "      <td>85.854236</td>\n",
       "      <td>14.846809</td>\n",
       "      <td>21.778621</td>\n",
       "      <td>5.217457</td>\n",
       "    </tr>\n",
       "    <tr>\n",
       "      <th>min</th>\n",
       "      <td>0.700000</td>\n",
       "      <td>0.000000</td>\n",
       "      <td>0.300000</td>\n",
       "      <td>1.600000</td>\n",
       "    </tr>\n",
       "    <tr>\n",
       "      <th>25%</th>\n",
       "      <td>74.375000</td>\n",
       "      <td>9.975000</td>\n",
       "      <td>12.750000</td>\n",
       "      <td>10.375000</td>\n",
       "    </tr>\n",
       "    <tr>\n",
       "      <th>50%</th>\n",
       "      <td>149.750000</td>\n",
       "      <td>22.900000</td>\n",
       "      <td>25.750000</td>\n",
       "      <td>12.900000</td>\n",
       "    </tr>\n",
       "    <tr>\n",
       "      <th>75%</th>\n",
       "      <td>218.825000</td>\n",
       "      <td>36.525000</td>\n",
       "      <td>45.100000</td>\n",
       "      <td>17.400000</td>\n",
       "    </tr>\n",
       "    <tr>\n",
       "      <th>max</th>\n",
       "      <td>296.400000</td>\n",
       "      <td>49.600000</td>\n",
       "      <td>114.000000</td>\n",
       "      <td>27.000000</td>\n",
       "    </tr>\n",
       "  </tbody>\n",
       "</table>\n",
       "</div>"
      ],
      "text/plain": [
       "               TV       radio   newspaper       sales\n",
       "count  200.000000  200.000000  200.000000  200.000000\n",
       "mean   147.042500   23.264000   30.554000   14.022500\n",
       "std     85.854236   14.846809   21.778621    5.217457\n",
       "min      0.700000    0.000000    0.300000    1.600000\n",
       "25%     74.375000    9.975000   12.750000   10.375000\n",
       "50%    149.750000   22.900000   25.750000   12.900000\n",
       "75%    218.825000   36.525000   45.100000   17.400000\n",
       "max    296.400000   49.600000  114.000000   27.000000"
      ]
     },
     "execution_count": 10,
     "metadata": {},
     "output_type": "execute_result"
    }
   ],
   "source": [
    "data.describe()"
   ]
  },
  {
   "cell_type": "code",
   "execution_count": 11,
   "id": "fafcb746-6f29-40a7-a907-a170ff52e89a",
   "metadata": {},
   "outputs": [
    {
     "name": "stdout",
     "output_type": "stream",
     "text": [
      "<class 'pandas.core.frame.DataFrame'>\n",
      "Index: 200 entries, 1 to 200\n",
      "Data columns (total 4 columns):\n",
      " #   Column     Non-Null Count  Dtype  \n",
      "---  ------     --------------  -----  \n",
      " 0   TV         200 non-null    float64\n",
      " 1   radio      200 non-null    float64\n",
      " 2   newspaper  200 non-null    float64\n",
      " 3   sales      200 non-null    float64\n",
      "dtypes: float64(4)\n",
      "memory usage: 7.8 KB\n"
     ]
    }
   ],
   "source": [
    "data.info()"
   ]
  },
  {
   "cell_type": "code",
   "execution_count": 12,
   "id": "d02a00a8-3c7c-4cd3-b411-24b6c0ce7cfc",
   "metadata": {},
   "outputs": [
    {
     "data": {
      "text/plain": [
       "(200, 4)"
      ]
     },
     "execution_count": 12,
     "metadata": {},
     "output_type": "execute_result"
    }
   ],
   "source": [
    "data.shape"
   ]
  },
  {
   "cell_type": "markdown",
   "id": "190573ae-65f5-4afa-aee7-65f3fd2e884f",
   "metadata": {},
   "source": [
    "**No feature selection is needed as all three independent variables are relevant to the problem statement.**"
   ]
  },
  {
   "cell_type": "markdown",
   "id": "12adc48f-9919-4503-9b81-726a762c6d2f",
   "metadata": {},
   "source": [
    "# Preprocessing the data"
   ]
  },
  {
   "cell_type": "markdown",
   "id": "8f2717e4-9718-47f5-94e4-1904418059a9",
   "metadata": {},
   "source": [
    "## Handling missing values"
   ]
  },
  {
   "cell_type": "code",
   "execution_count": 16,
   "id": "28f4974a-f685-4161-a233-8dc3bc8c84b5",
   "metadata": {},
   "outputs": [
    {
     "data": {
      "text/plain": [
       "TV           0\n",
       "radio        0\n",
       "newspaper    0\n",
       "sales        0\n",
       "dtype: int64"
      ]
     },
     "execution_count": 16,
     "metadata": {},
     "output_type": "execute_result"
    }
   ],
   "source": [
    "data.isnull().sum()"
   ]
  },
  {
   "cell_type": "markdown",
   "id": "7efec130-2992-471a-a1cf-27ad9b7e3a7a",
   "metadata": {},
   "source": [
    "**There are no missing values in the data to be handled.**"
   ]
  },
  {
   "cell_type": "markdown",
   "id": "ce3fcffa-4a67-4e13-93ec-0b5612cf31de",
   "metadata": {},
   "source": [
    "## 3. Assumption 1: There should be no outliers in the data. "
   ]
  },
  {
   "cell_type": "markdown",
   "id": "4b01628f-7005-432f-8a5c-5dfcacb52254",
   "metadata": {},
   "source": [
    "#### Boxplot()"
   ]
  },
  {
   "cell_type": "code",
   "execution_count": 20,
   "id": "34ce8c3d-0c94-4a1a-a254-01f79f7595c8",
   "metadata": {},
   "outputs": [
    {
     "data": {
      "image/png": "[encoded data removed]",
      "text/plain": [
       "<Figure size 640x480 with 1 Axes>"
      ]
     },
     "metadata": {},
     "output_type": "display_data"
    },
    {
     "data": {
      "image/png": "[encoded data removed]",
      "text/plain": [
       "<Figure size 640x480 with 1 Axes>"
      ]
     },
     "metadata": {},
     "output_type": "display_data"
    },
    {
     "data": {
      "image/png": "[encoded data removed]",
      "text/plain": [
       "<Figure size 640x480 with 1 Axes>"
      ]
     },
     "metadata": {},
     "output_type": "display_data"
    },
    {
     "data": {
      "image/png": "[encoded data removed]",
      "text/plain": [
       "<Figure size 640x480 with 1 Axes>"
      ]
     },
     "metadata": {},
     "output_type": "display_data"
    }
   ],
   "source": [
    "# Check using the boxplot.\n",
    "\n",
    "for i in data.columns:\n",
    "    data.boxplot(column = i)\n",
    "    plt.show()"
   ]
  },
  {
   "cell_type": "markdown",
   "id": "4513c40b-cd6a-49ce-b725-f8b076f82d2d",
   "metadata": {},
   "source": [
    "**Observing the boxplots, it can be concluded that in the newspaper variable there are heavy investments being made. We can drop the outlier values in the dataset to help with the further analysis of the data.**"
   ]
  },
  {
   "cell_type": "markdown",
   "id": "ede70d02-8bd0-4b5f-9eba-3688df511401",
   "metadata": {},
   "source": [
    "#### Drop()"
   ]
  },
  {
   "cell_type": "code",
   "execution_count": 23,
   "id": "44d28e43-72ff-40e5-b2df-3154daf2d500",
   "metadata": {},
   "outputs": [],
   "source": [
    "# data.drop(data[data['newspaper']>=90].index, axis = 0, inplace = True]) \n",
    "\n",
    "# we can drop the outliers valeus based on the condition"
   ]
  },
  {
   "cell_type": "code",
   "execution_count": 24,
   "id": "d8459ece-18d3-4196-bf97-9cacf183e8de",
   "metadata": {},
   "outputs": [],
   "source": [
    "#in the above code, .index is used to give the index/row numbers which need to be accessed."
   ]
  },
  {
   "cell_type": "markdown",
   "id": "ed8204ac-bc52-49ab-9e4b-7499bb80f19b",
   "metadata": {},
   "source": [
    "## 4. Assumption 2: Assumption of Linearity  \n",
    "\n",
    "Every independent variable should have a linear relationship with the dependent variable."
   ]
  },
  {
   "cell_type": "markdown",
   "id": "41c35f4b-c717-498e-954c-c8f052721273",
   "metadata": {},
   "source": [
    "#### Pairplot()"
   ]
  },
  {
   "cell_type": "code",
   "execution_count": 27,
   "id": "2530e5ce-fd61-424d-8909-265f42604d7d",
   "metadata": {},
   "outputs": [
    {
     "data": {
      "image/png": "[encoded data removed]",
      "text/plain": [
       "<Figure size 750x250 with 3 Axes>"
      ]
     },
     "metadata": {},
     "output_type": "display_data"
    }
   ],
   "source": [
    "#check pairplot\n",
    "\n",
    "sns.pairplot(data, x_vars=['TV','radio','newspaper'],y_vars=['sales'],kind='reg')\n",
    "plt.show();"
   ]
  },
  {
   "cell_type": "markdown",
   "id": "9b4fe5ac-8429-4962-8d26-0095afc2b1db",
   "metadata": {},
   "source": [
    "Observing the pairplots, we can see that there is strong, positive linear relationship between TV and sales.  \n",
    "Also, there is moderately strong, positive linear relationship between radio and sales.  \n",
    "In the newspaper variable, we can observe that due to outliers, there is weak or no relationship between newspaper and sales.  \n",
    "\n",
    "Hence, we can eliminate the newspaper variable since it does not show a linear relationship with sales."
   ]
  },
  {
   "cell_type": "markdown",
   "id": "4b7b069d-f19f-4c68-b242-58df83466960",
   "metadata": {},
   "source": [
    "**TV and radio show strong and moderate linear relationship respectively with respect to sales whereas newspaper shows weak or no relation with respect to sales.**  \n",
    "Therefore the newspaper column can be dropped. "
   ]
  },
  {
   "cell_type": "markdown",
   "id": "db3276be-9e93-4143-9efa-8429969c1635",
   "metadata": {},
   "source": [
    "#### Drop()"
   ]
  },
  {
   "cell_type": "code",
   "execution_count": 31,
   "id": "baa396ff-1312-4d15-9170-2d34a02940b1",
   "metadata": {},
   "outputs": [],
   "source": [
    "#data.drop(['newspaper'], axis = 0, inplace = True)"
   ]
  },
  {
   "cell_type": "code",
   "execution_count": 32,
   "id": "03c15bb6-4cca-4e1a-a118-d4513af2da94",
   "metadata": {},
   "outputs": [
    {
     "data": {
      "text/plain": [
       "Index(['TV', 'radio', 'newspaper', 'sales'], dtype='object')"
      ]
     },
     "execution_count": 32,
     "metadata": {},
     "output_type": "execute_result"
    }
   ],
   "source": [
    "data.columns"
   ]
  },
  {
   "cell_type": "markdown",
   "id": "f1b2950a-8c27-4cc4-b431-84392491c98e",
   "metadata": {},
   "source": [
    "## 5. Create X and Y "
   ]
  },
  {
   "cell_type": "code",
   "execution_count": 34,
   "id": "a0023a1a-e3d6-4e42-b9c7-5a77ef88c3f7",
   "metadata": {},
   "outputs": [],
   "source": [
    "# Create X and Y variables\n",
    "\n",
    "X = data.loc[:,['TV', 'radio', 'newspaper']]\n",
    "Y = data.loc[:,'sales']\n",
    "\n",
    "# X = data.iloc[:,0:-1]\n",
    "# Y = data.iloc[:,-1]\n",
    "\n",
    "# X = data.drop(['sales'], axis = 1)\n",
    "# Y =  data['sales']"
   ]
  },
  {
   "cell_type": "code",
   "execution_count": 35,
   "id": "54647d28-3072-4df0-9aff-a72610305d66",
   "metadata": {},
   "outputs": [
    {
     "name": "stdout",
     "output_type": "stream",
     "text": [
      "(200, 3)\n",
      "(200,)\n"
     ]
    }
   ],
   "source": [
    "print(X.shape)\n",
    "print(Y.shape)"
   ]
  },
  {
   "cell_type": "markdown",
   "id": "5e2073bb-f753-41e5-af8a-d42b725da514",
   "metadata": {},
   "source": [
    "## 6. Assumption 3: Assumption of Normality \n",
    "\n",
    "The dependent variable should follow an approximate normal distribution"
   ]
  },
  {
   "cell_type": "code",
   "execution_count": 37,
   "id": "8b60fe5c-07a2-4672-ae69-cd909757cb47",
   "metadata": {},
   "outputs": [
    {
     "data": {
      "image/png": "[encoded data removed]",
      "text/plain": [
       "<Figure size 640x480 with 1 Axes>"
      ]
     },
     "metadata": {},
     "output_type": "display_data"
    }
   ],
   "source": [
    "# check with distplot\n",
    "\n",
    "sns.distplot(Y)\n",
    "plt.show()\n",
    "\n",
    "#sns.distplot(Y,kde=True)"
   ]
  },
  {
   "cell_type": "markdown",
   "id": "702930bb-bf26-4065-8dfb-1bfe16493e88",
   "metadata": {},
   "source": [
    "We can observe that the data is approximately normally distributed."
   ]
  },
  {
   "cell_type": "code",
   "execution_count": 39,
   "id": "48612fa4-481f-4502-8d57-c2474993572b",
   "metadata": {},
   "outputs": [
    {
     "data": {
      "text/plain": [
       "'\\nIf the data is skewed then we can perform log transformations \\nto bring the data closer to a normally distrbuted plot. \\n\\nDo not unnecesarily perform log transformations on approximately normally dsitributed data \\nor else it will skew the data which will mess up the further analysis.\\n\\n\\n# log transformation\\n\\nimport numpy as np\\nY_log = np.log(Y)\\n\\nThis will give us output in log values. So later on when all the processing is done,\\nwe will have to use antilog to get back the original values. \\n'"
      ]
     },
     "execution_count": 39,
     "metadata": {},
     "output_type": "execute_result"
    }
   ],
   "source": [
    "\"\"\"\n",
    "If the data is skewed then we can perform log transformations \n",
    "to bring the data closer to a normally distrbuted plot. \n",
    "\n",
    "Do not unnecesarily perform log transformations on approximately normally dsitributed data \n",
    "or else it will skew the data which will mess up the further analysis.\n",
    "\n",
    "\n",
    "# log transformation\n",
    "\n",
    "import numpy as np\n",
    "Y_log = np.log(Y)\n",
    "\n",
    "This will give us output in log values. So later on when all the processing is done,\n",
    "we will have to use antilog to get back the original values. \n",
    "\"\"\""
   ]
  },
  {
   "cell_type": "code",
   "execution_count": 40,
   "id": "f45e3cb6-aa20-471b-9422-0be859b6a888",
   "metadata": {},
   "outputs": [],
   "source": [
    "#sns.distplot(Y_log)\n",
    "#plt.show();"
   ]
  },
  {
   "cell_type": "markdown",
   "id": "e2563065-d1c7-4872-9cba-fe9146c7c69d",
   "metadata": {},
   "source": [
    "## 7. Checking and handling the skewness in X variables"
   ]
  },
  {
   "cell_type": "markdown",
   "id": "68dfe1e5-01eb-4abc-b47c-60375408f7d7",
   "metadata": {},
   "source": [
    "#### hist()"
   ]
  },
  {
   "cell_type": "code",
   "execution_count": 43,
   "id": "b20c995d-c120-4755-b9bf-854e47e21098",
   "metadata": {},
   "outputs": [
    {
     "data": {
      "image/png": "[encoded data removed]",
      "text/plain": [
       "<Figure size 640x480 with 4 Axes>"
      ]
     },
     "metadata": {},
     "output_type": "display_data"
    }
   ],
   "source": [
    "X.hist(bins=20)\n",
    "plt.show();"
   ]
  },
  {
   "cell_type": "markdown",
   "id": "ae6f1d01-7954-4d61-b239-de19c9439de5",
   "metadata": {},
   "source": [
    "**There is no typical skewness observed in TV and radio but the data is highly skewed variable.** "
   ]
  },
  {
   "cell_type": "markdown",
   "id": "69b2bfb2-ce4d-4076-9cc0-72b6b9b130c2",
   "metadata": {},
   "source": [
    "#### skew(), log1p()"
   ]
  },
  {
   "cell_type": "code",
   "execution_count": 46,
   "id": "b1861677-2ea6-4254-93cb-ac6e77cd8912",
   "metadata": {},
   "outputs": [
    {
     "name": "stdout",
     "output_type": "stream",
     "text": [
      "TV          -0.069328\n",
      "radio        0.093467\n",
      "newspaper    0.887996\n",
      "dtype: float64\n",
      "newspaper    0.887996\n",
      "dtype: float64\n"
     ]
    }
   ],
   "source": [
    "from scipy.stats import skew\n",
    "#finding the skewness in each variable\n",
    "data_num_skew = X.apply(lambda i: skew(i.dropna()))\n",
    "#subsetting the variables that are highly skewed\n",
    "data_num_skewed = data_num_skew[(data_num_skew > .75) | (data_num_skew < -.75)]\n",
    " \n",
    "print(data_num_skew)\n",
    "print(data_num_skewed)\n",
    "import numpy as np\n",
    "# apply log + 1 transformation for all numeric features with skewness over .75\n",
    "X[data_num_skewed.index] = np.log1p(X[data_num_skewed.index])\n",
    "#X[\"newspaper\"] = np.log1p(X[\"newspaper\"])"
   ]
  },
  {
   "cell_type": "code",
   "execution_count": 47,
   "id": "c0fd8a7a-bc00-427f-8654-fc22e3c24d5d",
   "metadata": {},
   "outputs": [],
   "source": [
    "# explanation and important points of above block of code\n",
    "# X.apply will apply \n",
    "\n",
    "# lambda i: skew(i.dropna()) -> it will traverse through all columns and will delete the missing values first and then run the skewed function\n",
    "# on the remaining non missing value. \n",
    "\n",
    "# data_num_skew[(data_num_skew > .75) | (data_num_skew < -.75)] -> finds the variables which are highly skewed\n",
    "\n",
    "# log1p is used for log transformations because there is a possibility of data containing 0 values and log0 will throw us \n",
    "# a negative infinite output which will become a problem and hence to avoid this problem log1p is used. \n",
    "\n",
    "# X[data_num_skewed.index] = np.log1p(X[data_num_skewed.index])-> will pick up the data variables with high skewness run log1p function \n",
    "# and store it in X variable\n",
    "\n",
    "# log1p when there is 0 in data\n",
    "# log when there is no 0 in data\n",
    "\n",
    "# log+1 should be used when there is 0 value in the feature/variable. \n",
    "# if log0 is used it will throw an negative infinite output which will make the further analysis difficult.\n"
   ]
  },
  {
   "cell_type": "code",
   "execution_count": 48,
   "id": "c452199a-c454-479d-ae70-49ad412dd56d",
   "metadata": {},
   "outputs": [],
   "source": [
    "# Y - X\n",
    "\n",
    "# level - level  model\n",
    "# log -log       model\n",
    "# level - log    model\n",
    "# log  - level   model \n",
    "\n",
    "# used by statisticians"
   ]
  },
  {
   "cell_type": "markdown",
   "id": "88ecf756-5420-42bf-8ef5-a5ccfdd93c17",
   "metadata": {},
   "source": [
    "## 8. Assumption 4: Assumption of no multicolinearity  \n",
    "\n",
    "There should be no multicolinearity between theindependent variables.  \n",
    "\n",
    "Multicolinearity is the relationship amongst the multiple independent variables"
   ]
  },
  {
   "cell_type": "code",
   "execution_count": 50,
   "id": "f8aa4314-3512-4cd1-ad8a-9c43f7c35a07",
   "metadata": {},
   "outputs": [],
   "source": [
    "# correlation -> shows relationship between variables \n",
    "# multicolinearity -> \n",
    "# we cannot detect mutlicolinearity with only correlation because it can show relationship between 2 variables at a time.\n",
    "# there should be no multicolinearity in the data"
   ]
  },
  {
   "cell_type": "markdown",
   "id": "66c0e56e-48a0-4031-a0af-11bec98ff84a",
   "metadata": {},
   "source": [
    "#### corr() , hist()"
   ]
  },
  {
   "cell_type": "code",
   "execution_count": 52,
   "id": "e1259529-4da5-476b-99db-b89ddb8366e4",
   "metadata": {},
   "outputs": [
    {
     "name": "stdout",
     "output_type": "stream",
     "text": [
      "                 TV     radio  newspaper\n",
      "TV         1.000000  0.054809   0.030951\n",
      "radio      0.054809  1.000000   0.251909\n",
      "newspaper  0.030951  0.251909   1.000000\n"
     ]
    },
    {
     "data": {
      "image/png": "[encoded data removed]",
      "text/plain": [
       "<Figure size 640x480 with 2 Axes>"
      ]
     },
     "metadata": {},
     "output_type": "display_data"
    }
   ],
   "source": [
    "corr_df = X.corr(method='pearson')\n",
    "print(corr_df)\n",
    "\n",
    "sns.heatmap(corr_df,vmax=1.0,vmin=-1.0,annot=True)\n",
    "plt.show();"
   ]
  },
  {
   "cell_type": "markdown",
   "id": "8fc43ca4-658d-4038-9c63-d422c11b0e31",
   "metadata": {},
   "source": [
    "We can observe through this heatmap that all the variables are independent of each other. "
   ]
  },
  {
   "cell_type": "code",
   "execution_count": 54,
   "id": "a048152e-0274-4b01-900b-cc563b4ec28a",
   "metadata": {},
   "outputs": [],
   "source": [
    "# there should be high correlation between X and Y variables to indicate X variable is good for prediction. \n",
    "# there should be ideally no correlation between X variables such that they are independent of each other. "
   ]
  },
  {
   "cell_type": "code",
   "execution_count": 55,
   "id": "ac466d9d-d457-43b8-aa24-31c25eb2d725",
   "metadata": {},
   "outputs": [],
   "source": [
    "# close to 0 -- no corr\n",
    "# -0.5 to 0 AND 0 to 0.5 -- low corr\n",
    "# -0.75 to -0.5 AND 0.5 to 0.75 -- moderate corr\n",
    "# -1 to -0.75 AND 0.75 to 1 -- high corr\n",
    "# if any 2 or more independent variables shows high corr then you can drop any 1 of the variables for analysis\n",
    "# if the variables are important based on the domain knowledge then do not delete it. "
   ]
  },
  {
   "cell_type": "markdown",
   "id": "f303aa67-8720-483d-8318-c5111c4f19cc",
   "metadata": {},
   "source": [
    "#### Variance Inflation Factor- vif()"
   ]
  },
  {
   "cell_type": "code",
   "execution_count": 57,
   "id": "aa3ad81e-873e-425b-97ff-88b74bc50668",
   "metadata": {},
   "outputs": [],
   "source": [
    "# Variance Inflation Factor (VIF)\n",
    "# VIF = 1 / (1 - R^2)\n",
    "# acceptable VIF is less than 5 \n",
    "# if VIF > 5 then it is considered that the variables show multicollinearity then we try to eliminated such variables. \n",
    "# if multiple variables show VIF > 5, then the range is extended to 10.\n",
    "\n",
    "# in case of variables where VIF > 5, we can eliminate the one with highest VIF and \n",
    "# then recheck and repeat the process until all the variables are within the range. "
   ]
  },
  {
   "cell_type": "code",
   "execution_count": 58,
   "id": "ac73efb8-9b5a-471b-8b28-b7833685b1a5",
   "metadata": {},
   "outputs": [
    {
     "data": {
      "text/html": [
       "<div>\n",
       "<style scoped>\n",
       "    .dataframe tbody tr th:only-of-type {\n",
       "        vertical-align: middle;\n",
       "    }\n",
       "\n",
       "    .dataframe tbody tr th {\n",
       "        vertical-align: top;\n",
       "    }\n",
       "\n",
       "    .dataframe thead th {\n",
       "        text-align: right;\n",
       "    }\n",
       "</style>\n",
       "<table border=\"1\" class=\"dataframe\">\n",
       "  <thead>\n",
       "    <tr style=\"text-align: right;\">\n",
       "      <th></th>\n",
       "      <th>features</th>\n",
       "      <th>VIF Factor</th>\n",
       "    </tr>\n",
       "  </thead>\n",
       "  <tbody>\n",
       "    <tr>\n",
       "      <th>0</th>\n",
       "      <td>TV</td>\n",
       "      <td>3.39</td>\n",
       "    </tr>\n",
       "    <tr>\n",
       "      <th>1</th>\n",
       "      <td>radio</td>\n",
       "      <td>3.63</td>\n",
       "    </tr>\n",
       "    <tr>\n",
       "      <th>2</th>\n",
       "      <td>newspaper</td>\n",
       "      <td>5.44</td>\n",
       "    </tr>\n",
       "  </tbody>\n",
       "</table>\n",
       "</div>"
      ],
      "text/plain": [
       "    features  VIF Factor\n",
       "0         TV        3.39\n",
       "1      radio        3.63\n",
       "2  newspaper        5.44"
      ]
     },
     "execution_count": 58,
     "metadata": {},
     "output_type": "execute_result"
    }
   ],
   "source": [
    "from statsmodels.stats.outliers_influence import variance_inflation_factor as vif\n",
    " \n",
    "vif_df = pd.DataFrame()\n",
    "vif_df[\"features\"] = X.columns\n",
    "vif_df[\"VIF Factor\"] = [vif(X.values, i) for i in range(X.shape[1])]\n",
    "# X.shape -> (rows=200,columns=3)-> (0,1), X.shape[1]-> columns=3\n",
    "# in vif(X.values, i) i becomes the dependent variable and the remaining variables as independent variable\n",
    "vif_df.round(2)"
   ]
  },
  {
   "cell_type": "code",
   "execution_count": 59,
   "id": "5099abcd-c5d4-433a-99b9-14940cb470bc",
   "metadata": {},
   "outputs": [],
   "source": [
    "# explanation of above block of code\n",
    "# X.shape[1] -> X.shape(columns) X.shape gives output as (rows, columns) -> (0,1)\n",
    "# vif(X.values, i) -> in first iteration i will be considered as DV i.e. TV, X.values will consider rest as IV i.e. radio and newspaper\n",
    "\n",
    "# newspaper shows high VIF"
   ]
  },
  {
   "cell_type": "markdown",
   "id": "7af4924e-68ac-4411-8fd1-1120a113ab54",
   "metadata": {},
   "source": [
    "#### drop()"
   ]
  },
  {
   "cell_type": "code",
   "execution_count": 61,
   "id": "9591f847-f9f0-491d-b8f0-30271973fc65",
   "metadata": {},
   "outputs": [],
   "source": [
    "# X.drop[\"newspaper\",axis=1,inplace=True]"
   ]
  },
  {
   "cell_type": "code",
   "execution_count": 62,
   "id": "4ba24bfc-b4a0-4f34-9e73-cca053176761",
   "metadata": {},
   "outputs": [],
   "source": [
    "# Rerun the VIF code block if multiple variables show high VIF until all the variables fall into the acceptable range."
   ]
  },
  {
   "cell_type": "markdown",
   "id": "69ea0ae4-5ab1-46ff-88a7-dd0375bdb2e6",
   "metadata": {},
   "source": [
    "## 9. Splitting the data"
   ]
  },
  {
   "cell_type": "code",
   "execution_count": 64,
   "id": "b17535b5-571c-4a9f-b7e8-5cd067c29c32",
   "metadata": {},
   "outputs": [],
   "source": [
    "from sklearn.model_selection import train_test_split\n",
    "\n",
    "# split the data into test and train\n",
    "X_train, X_test, Y_train, Y_test = train_test_split(X,Y,test_size=0.2,random_state=10)"
   ]
  },
  {
   "cell_type": "code",
   "execution_count": 65,
   "id": "d13ea5fb-38cb-4aba-94cd-2006e6b55099",
   "metadata": {},
   "outputs": [],
   "source": [
    "# train_test_split(X,Y,test_size=0.2,random_state=10)\n",
    "# in train_test_split function the madnatory arguments to be passed are IV (X) and DV (Y).\n",
    "# if Y is log transformed then pass Y_log as DV instead of Y. \n",
    "\n",
    "# test_size -> indicates how much portion of data should be reserved for the validation testing part.\n",
    "# we take the test_size as either 70-30 or 80-20 (train-test)\n",
    "#by default test_size is taken as 75-25\n",
    "# >1000 --> test_size = 0.3\n",
    "# <1000 --> test_size = 0.2\n",
    "\n",
    "# data will be randomly splitted, best fit line will be different if random_state is not passed.\n",
    "# random_state = 10 -> same value, split same, model same, same data split, random_state using a seed value\n",
    "# random_state is seed value which will give reproducable output\n",
    "\n",
    "# X_train, X_test, Y_train, Y_test -> do not interchange, first it will split X into train and then test \n",
    "# and then next it will split Y into train and then test"
   ]
  },
  {
   "cell_type": "code",
   "execution_count": 66,
   "id": "34eb0506-d416-4bcd-9b44-c2f0ef9e37af",
   "metadata": {},
   "outputs": [
    {
     "name": "stdout",
     "output_type": "stream",
     "text": [
      "(160, 3)\n",
      "(40, 3)\n",
      "(160,)\n",
      "(40,)\n"
     ]
    }
   ],
   "source": [
    "print(X_train.shape)\n",
    "print(X_test.shape)\n",
    "print(Y_train.shape)\n",
    "print(Y_test.shape)\n",
    "# print (\"Percent of train data\", X_train.shape[0]/X.shape[0]*100)"
   ]
  },
  {
   "cell_type": "markdown",
   "id": "2527ff47-7e56-4099-a1d5-5ca8a6c59f57",
   "metadata": {},
   "source": [
    "## 10. Building a model\n",
    "\n",
    "a. Creating the model  \n",
    "b. Training the model"
   ]
  },
  {
   "cell_type": "markdown",
   "id": "888949fa-c79c-4f7c-805c-5348bd523cd3",
   "metadata": {},
   "source": [
    "### Creating the model and Training the model"
   ]
  },
  {
   "cell_type": "code",
   "execution_count": 69,
   "id": "ddac76a8-95f5-4dd2-bc8b-a7f72b7b44b0",
   "metadata": {},
   "outputs": [
    {
     "name": "stdout",
     "output_type": "stream",
     "text": [
      "3.3532913858151474\n",
      "[ 0.0437425   0.19303708 -0.04895137]\n"
     ]
    }
   ],
   "source": [
    "from sklearn.linear_model import LinearRegression\n",
    "# Create a model object\n",
    "lm = LinearRegression()\n",
    "# Train the emodel object\n",
    "lm.fit(X_train,Y_train)\n",
    "\n",
    "# Print intercept and cofficients\n",
    "print(lm.intercept_)\n",
    "print(lm.coef_)"
   ]
  },
  {
   "cell_type": "code",
   "execution_count": 70,
   "id": "e54dc17b-ef08-4e98-9d61-52288fb6929b",
   "metadata": {},
   "outputs": [],
   "source": [
    "# in ML, hyperparameters (test_size, random_state) are those values whihc indicate the model that how it should work\n",
    "# parameters (.intercept_, .coef_) those values which are auto generated values when the model is created. "
   ]
  },
  {
   "cell_type": "code",
   "execution_count": 71,
   "id": "7ff04bec-1cf2-4778-8252-243bb9277251",
   "metadata": {},
   "outputs": [],
   "source": [
    "# .intercept_ -> beta0\n",
    "# .coef_ -> beta1, beta2, beta3"
   ]
  },
  {
   "cell_type": "code",
   "execution_count": 72,
   "id": "e254c0e7-755a-442e-9b80-d636b811d69a",
   "metadata": {},
   "outputs": [
    {
     "name": "stdout",
     "output_type": "stream",
     "text": [
      "[('TV', 0.04374250157742166), ('radio', 0.1930370789734531), ('newspaper', -0.04895136822248787)]\n"
     ]
    }
   ],
   "source": [
    "# Pair the feature names with the coefficients\n",
    "print(list(zip(X.columns, lm.coef_)))"
   ]
  },
  {
   "cell_type": "code",
   "execution_count": 73,
   "id": "5ae4ba0e-092b-4a97-9fc1-f2323036e39f",
   "metadata": {},
   "outputs": [],
   "source": [
    "# y = B0 + B1.TV + B2.Radio + B3.Newspaper"
   ]
  },
  {
   "cell_type": "code",
   "execution_count": 74,
   "id": "a8cbf160-d3a5-4363-bd09-8543da82f439",
   "metadata": {},
   "outputs": [
    {
     "name": "stdout",
     "output_type": "stream",
     "text": [
      "22.136112385815146\n"
     ]
    }
   ],
   "source": [
    "X1 = 100\n",
    "X2 = 100\n",
    "X3 = 100\n",
    "Y_pred = 3.3532913858151474 + (0.0437425*X1) + (0.19303708*X2) + (-0.04895137*X3)\n",
    "print(Y_pred)"
   ]
  },
  {
   "cell_type": "code",
   "execution_count": 75,
   "id": "f3c013c9-fa2a-4dd3-abff-8e595b26531b",
   "metadata": {},
   "outputs": [
    {
     "name": "stdout",
     "output_type": "stream",
     "text": [
      "26.805332913800658\n"
     ]
    }
   ],
   "source": [
    "X1 = 100\n",
    "X2 = 100\n",
    "X3 = np.log1p(100)\n",
    "Y_pred = 3.3532913858151474 + (0.0437425*X1) + (0.19303708*X2) + (-0.04895137*X3)\n",
    "print(Y_pred)"
   ]
  },
  {
   "cell_type": "code",
   "execution_count": 76,
   "id": "d15cbfef-9c5e-4fa5-9cff-0ea1ad28c92b",
   "metadata": {},
   "outputs": [
    {
     "name": "stdout",
     "output_type": "stream",
     "text": [
      "27.031249385815148\n"
     ]
    }
   ],
   "source": [
    "X1 = 100\n",
    "X2 = 100\n",
    "X3 = np.log1p(0)\n",
    "Y_pred = 3.3532913858151474 + (0.0437425*X1) + (0.19303708*X2) + (-0.04895137*X3)\n",
    "print(Y_pred)"
   ]
  },
  {
   "cell_type": "code",
   "execution_count": 77,
   "id": "d4127d15-349c-4cc9-b1fb-6b467df1eed5",
   "metadata": {},
   "outputs": [
    {
     "name": "stdout",
     "output_type": "stream",
     "text": [
      "46.334957385815144\n"
     ]
    }
   ],
   "source": [
    "X1 = 100\n",
    "X2 = 200\n",
    "X3 = np.log1p(0)\n",
    "Y_pred = 3.3532913858151474 + (0.0437425*X1) + (0.19303708*X2) + (-0.04895137*X3)\n",
    "print(Y_pred)"
   ]
  },
  {
   "cell_type": "code",
   "execution_count": 78,
   "id": "4ce53c88-0502-4687-aaca-df6fe5716c9e",
   "metadata": {},
   "outputs": [
    {
     "name": "stdout",
     "output_type": "stream",
     "text": [
      "[18.15026866 12.96136899 18.05815332 23.66025079 20.68751041 14.26325872\n",
      " 14.92774472 21.38847375 21.14752911 12.75788534 23.99735583  7.20632737\n",
      " 12.30777109 19.22813333 19.41581583 13.44985803 19.62619644  9.24667496\n",
      " 21.1052867  20.87838433 15.52611251 10.91695579 22.82910679 15.82915597\n",
      " 17.40742204  8.17170435 11.88738387 12.69866637 21.71275044  7.94920205\n",
      " 12.49118989 20.43292079  4.71443086  4.72126238 16.7504848  15.74384945\n",
      "  6.74775596 17.73750244  9.01170001 13.60841593]\n"
     ]
    }
   ],
   "source": [
    "# Predict using the model\n",
    "\n",
    "Y_pred = lm.predict(X_test)\n",
    "print(Y_pred)"
   ]
  },
  {
   "cell_type": "code",
   "execution_count": 79,
   "id": "a5b4cd70-cd91-4f70-8a36-b4dc679052cf",
   "metadata": {},
   "outputs": [],
   "source": [
    "new_df = pd.DataFrame()\n",
    "new_df = X_test.copy()\n",
    "\n",
    "new_df['Actual sales'] = Y_test\n",
    "new_df['Predicted sales'] = Y_pred\n",
    "new_df=new_df.reset_index().drop(\"index\", axis=1)"
   ]
  },
  {
   "cell_type": "code",
   "execution_count": 80,
   "id": "b4acbb4d-691b-411d-a213-ae2a5efbf67e",
   "metadata": {},
   "outputs": [
    {
     "data": {
      "text/html": [
       "<div>\n",
       "<style scoped>\n",
       "    .dataframe tbody tr th:only-of-type {\n",
       "        vertical-align: middle;\n",
       "    }\n",
       "\n",
       "    .dataframe tbody tr th {\n",
       "        vertical-align: top;\n",
       "    }\n",
       "\n",
       "    .dataframe thead th {\n",
       "        text-align: right;\n",
       "    }\n",
       "</style>\n",
       "<table border=\"1\" class=\"dataframe\">\n",
       "  <thead>\n",
       "    <tr style=\"text-align: right;\">\n",
       "      <th></th>\n",
       "      <th>TV</th>\n",
       "      <th>radio</th>\n",
       "      <th>newspaper</th>\n",
       "      <th>Actual sales</th>\n",
       "      <th>Predicted sales</th>\n",
       "    </tr>\n",
       "  </thead>\n",
       "  <tbody>\n",
       "    <tr>\n",
       "      <th>0</th>\n",
       "      <td>210.7</td>\n",
       "      <td>29.5</td>\n",
       "      <td>2.332144</td>\n",
       "      <td>18.4</td>\n",
       "      <td>18.150269</td>\n",
       "    </tr>\n",
       "    <tr>\n",
       "      <th>1</th>\n",
       "      <td>8.7</td>\n",
       "      <td>48.9</td>\n",
       "      <td>4.330733</td>\n",
       "      <td>7.2</td>\n",
       "      <td>12.961369</td>\n",
       "    </tr>\n",
       "    <tr>\n",
       "      <th>2</th>\n",
       "      <td>218.4</td>\n",
       "      <td>27.7</td>\n",
       "      <td>3.996364</td>\n",
       "      <td>18.0</td>\n",
       "      <td>18.058153</td>\n",
       "    </tr>\n",
       "    <tr>\n",
       "      <th>3</th>\n",
       "      <td>283.6</td>\n",
       "      <td>42.0</td>\n",
       "      <td>4.207673</td>\n",
       "      <td>25.5</td>\n",
       "      <td>23.660251</td>\n",
       "    </tr>\n",
       "    <tr>\n",
       "      <th>4</th>\n",
       "      <td>216.4</td>\n",
       "      <td>41.7</td>\n",
       "      <td>3.703768</td>\n",
       "      <td>22.6</td>\n",
       "      <td>20.687510</td>\n",
       "    </tr>\n",
       "    <tr>\n",
       "      <th>5</th>\n",
       "      <td>147.3</td>\n",
       "      <td>23.9</td>\n",
       "      <td>3.000720</td>\n",
       "      <td>14.6</td>\n",
       "      <td>14.263259</td>\n",
       "    </tr>\n",
       "    <tr>\n",
       "      <th>6</th>\n",
       "      <td>188.4</td>\n",
       "      <td>18.1</td>\n",
       "      <td>3.280911</td>\n",
       "      <td>14.9</td>\n",
       "      <td>14.927745</td>\n",
       "    </tr>\n",
       "    <tr>\n",
       "      <th>7</th>\n",
       "      <td>198.9</td>\n",
       "      <td>49.4</td>\n",
       "      <td>4.110874</td>\n",
       "      <td>23.7</td>\n",
       "      <td>21.388474</td>\n",
       "    </tr>\n",
       "    <tr>\n",
       "      <th>8</th>\n",
       "      <td>216.8</td>\n",
       "      <td>43.9</td>\n",
       "      <td>3.339322</td>\n",
       "      <td>22.3</td>\n",
       "      <td>21.147529</td>\n",
       "    </tr>\n",
       "    <tr>\n",
       "      <th>9</th>\n",
       "      <td>17.2</td>\n",
       "      <td>45.9</td>\n",
       "      <td>4.252772</td>\n",
       "      <td>9.3</td>\n",
       "      <td>12.757885</td>\n",
       "    </tr>\n",
       "    <tr>\n",
       "      <th>10</th>\n",
       "      <td>289.7</td>\n",
       "      <td>42.3</td>\n",
       "      <td>3.955082</td>\n",
       "      <td>25.4</td>\n",
       "      <td>23.997356</td>\n",
       "    </tr>\n",
       "    <tr>\n",
       "      <th>11</th>\n",
       "      <td>66.1</td>\n",
       "      <td>5.8</td>\n",
       "      <td>3.226844</td>\n",
       "      <td>8.6</td>\n",
       "      <td>7.206327</td>\n",
       "    </tr>\n",
       "    <tr>\n",
       "      <th>12</th>\n",
       "      <td>16.9</td>\n",
       "      <td>43.7</td>\n",
       "      <td>4.504244</td>\n",
       "      <td>8.7</td>\n",
       "      <td>12.307771</td>\n",
       "    </tr>\n",
       "    <tr>\n",
       "      <th>13</th>\n",
       "      <td>220.5</td>\n",
       "      <td>33.2</td>\n",
       "      <td>3.660994</td>\n",
       "      <td>20.1</td>\n",
       "      <td>19.228133</td>\n",
       "    </tr>\n",
       "    <tr>\n",
       "      <th>14</th>\n",
       "      <td>229.5</td>\n",
       "      <td>32.3</td>\n",
       "      <td>4.320151</td>\n",
       "      <td>19.7</td>\n",
       "      <td>19.415816</td>\n",
       "    </tr>\n",
       "    <tr>\n",
       "      <th>15</th>\n",
       "      <td>102.7</td>\n",
       "      <td>29.6</td>\n",
       "      <td>2.240710</td>\n",
       "      <td>14.0</td>\n",
       "      <td>13.449858</td>\n",
       "    </tr>\n",
       "    <tr>\n",
       "      <th>16</th>\n",
       "      <td>255.4</td>\n",
       "      <td>26.9</td>\n",
       "      <td>1.871802</td>\n",
       "      <td>19.8</td>\n",
       "      <td>19.626196</td>\n",
       "    </tr>\n",
       "    <tr>\n",
       "      <th>17</th>\n",
       "      <td>5.4</td>\n",
       "      <td>29.9</td>\n",
       "      <td>2.341806</td>\n",
       "      <td>5.3</td>\n",
       "      <td>9.246675</td>\n",
       "    </tr>\n",
       "    <tr>\n",
       "      <th>18</th>\n",
       "      <td>241.7</td>\n",
       "      <td>38.0</td>\n",
       "      <td>3.186353</td>\n",
       "      <td>21.8</td>\n",
       "      <td>21.105287</td>\n",
       "    </tr>\n",
       "    <tr>\n",
       "      <th>19</th>\n",
       "      <td>205.0</td>\n",
       "      <td>45.1</td>\n",
       "      <td>3.025291</td>\n",
       "      <td>22.6</td>\n",
       "      <td>20.878384</td>\n",
       "    </tr>\n",
       "    <tr>\n",
       "      <th>20</th>\n",
       "      <td>187.8</td>\n",
       "      <td>21.1</td>\n",
       "      <td>2.351375</td>\n",
       "      <td>15.6</td>\n",
       "      <td>15.526113</td>\n",
       "    </tr>\n",
       "    <tr>\n",
       "      <th>21</th>\n",
       "      <td>0.7</td>\n",
       "      <td>39.6</td>\n",
       "      <td>2.272126</td>\n",
       "      <td>1.6</td>\n",
       "      <td>10.916956</td>\n",
       "    </tr>\n",
       "    <tr>\n",
       "      <th>22</th>\n",
       "      <td>261.3</td>\n",
       "      <td>42.7</td>\n",
       "      <td>4.019980</td>\n",
       "      <td>24.2</td>\n",
       "      <td>22.829107</td>\n",
       "    </tr>\n",
       "    <tr>\n",
       "      <th>23</th>\n",
       "      <td>110.7</td>\n",
       "      <td>40.6</td>\n",
       "      <td>4.162003</td>\n",
       "      <td>16.0</td>\n",
       "      <td>15.829156</td>\n",
       "    </tr>\n",
       "    <tr>\n",
       "      <th>24</th>\n",
       "      <td>280.2</td>\n",
       "      <td>10.1</td>\n",
       "      <td>3.109061</td>\n",
       "      <td>14.8</td>\n",
       "      <td>17.407422</td>\n",
       "    </tr>\n",
       "    <tr>\n",
       "      <th>25</th>\n",
       "      <td>18.8</td>\n",
       "      <td>21.7</td>\n",
       "      <td>3.939638</td>\n",
       "      <td>7.0</td>\n",
       "      <td>8.171704</td>\n",
       "    </tr>\n",
       "    <tr>\n",
       "      <th>26</th>\n",
       "      <td>25.6</td>\n",
       "      <td>39.0</td>\n",
       "      <td>2.332144</td>\n",
       "      <td>9.5</td>\n",
       "      <td>11.887384</td>\n",
       "    </tr>\n",
       "    <tr>\n",
       "      <th>27</th>\n",
       "      <td>44.5</td>\n",
       "      <td>39.3</td>\n",
       "      <td>3.830813</td>\n",
       "      <td>10.4</td>\n",
       "      <td>12.698666</td>\n",
       "    </tr>\n",
       "    <tr>\n",
       "      <th>28</th>\n",
       "      <td>239.9</td>\n",
       "      <td>41.5</td>\n",
       "      <td>2.970414</td>\n",
       "      <td>23.2</td>\n",
       "      <td>21.712750</td>\n",
       "    </tr>\n",
       "    <tr>\n",
       "      <th>29</th>\n",
       "      <td>19.6</td>\n",
       "      <td>20.1</td>\n",
       "      <td>2.890372</td>\n",
       "      <td>7.6</td>\n",
       "      <td>7.949202</td>\n",
       "    </tr>\n",
       "    <tr>\n",
       "      <th>30</th>\n",
       "      <td>131.7</td>\n",
       "      <td>18.4</td>\n",
       "      <td>3.572346</td>\n",
       "      <td>12.9</td>\n",
       "      <td>12.491190</td>\n",
       "    </tr>\n",
       "    <tr>\n",
       "      <th>31</th>\n",
       "      <td>228.0</td>\n",
       "      <td>37.7</td>\n",
       "      <td>3.496508</td>\n",
       "      <td>21.5</td>\n",
       "      <td>20.432921</td>\n",
       "    </tr>\n",
       "    <tr>\n",
       "      <th>32</th>\n",
       "      <td>27.5</td>\n",
       "      <td>1.6</td>\n",
       "      <td>3.077312</td>\n",
       "      <td>6.9</td>\n",
       "      <td>4.714431</td>\n",
       "    </tr>\n",
       "    <tr>\n",
       "      <th>33</th>\n",
       "      <td>28.6</td>\n",
       "      <td>1.5</td>\n",
       "      <td>3.526361</td>\n",
       "      <td>7.3</td>\n",
       "      <td>4.721262</td>\n",
       "    </tr>\n",
       "    <tr>\n",
       "      <th>34</th>\n",
       "      <td>290.7</td>\n",
       "      <td>4.1</td>\n",
       "      <td>2.251292</td>\n",
       "      <td>12.8</td>\n",
       "      <td>16.750485</td>\n",
       "    </tr>\n",
       "    <tr>\n",
       "      <th>35</th>\n",
       "      <td>276.7</td>\n",
       "      <td>2.3</td>\n",
       "      <td>3.206803</td>\n",
       "      <td>11.8</td>\n",
       "      <td>15.743849</td>\n",
       "    </tr>\n",
       "    <tr>\n",
       "      <th>36</th>\n",
       "      <td>80.2</td>\n",
       "      <td>0.0</td>\n",
       "      <td>2.322388</td>\n",
       "      <td>8.8</td>\n",
       "      <td>6.747756</td>\n",
       "    </tr>\n",
       "    <tr>\n",
       "      <th>37</th>\n",
       "      <td>284.3</td>\n",
       "      <td>10.6</td>\n",
       "      <td>2.001480</td>\n",
       "      <td>15.0</td>\n",
       "      <td>17.737502</td>\n",
       "    </tr>\n",
       "    <tr>\n",
       "      <th>38</th>\n",
       "      <td>89.7</td>\n",
       "      <td>9.9</td>\n",
       "      <td>3.602777</td>\n",
       "      <td>10.6</td>\n",
       "      <td>9.011700</td>\n",
       "    </tr>\n",
       "    <tr>\n",
       "      <th>39</th>\n",
       "      <td>222.4</td>\n",
       "      <td>3.4</td>\n",
       "      <td>2.646175</td>\n",
       "      <td>11.5</td>\n",
       "      <td>13.608416</td>\n",
       "    </tr>\n",
       "  </tbody>\n",
       "</table>\n",
       "</div>"
      ],
      "text/plain": [
       "       TV  radio  newspaper  Actual sales  Predicted sales\n",
       "0   210.7   29.5   2.332144          18.4        18.150269\n",
       "1     8.7   48.9   4.330733           7.2        12.961369\n",
       "2   218.4   27.7   3.996364          18.0        18.058153\n",
       "3   283.6   42.0   4.207673          25.5        23.660251\n",
       "4   216.4   41.7   3.703768          22.6        20.687510\n",
       "5   147.3   23.9   3.000720          14.6        14.263259\n",
       "6   188.4   18.1   3.280911          14.9        14.927745\n",
       "7   198.9   49.4   4.110874          23.7        21.388474\n",
       "8   216.8   43.9   3.339322          22.3        21.147529\n",
       "9    17.2   45.9   4.252772           9.3        12.757885\n",
       "10  289.7   42.3   3.955082          25.4        23.997356\n",
       "11   66.1    5.8   3.226844           8.6         7.206327\n",
       "12   16.9   43.7   4.504244           8.7        12.307771\n",
       "13  220.5   33.2   3.660994          20.1        19.228133\n",
       "14  229.5   32.3   4.320151          19.7        19.415816\n",
       "15  102.7   29.6   2.240710          14.0        13.449858\n",
       "16  255.4   26.9   1.871802          19.8        19.626196\n",
       "17    5.4   29.9   2.341806           5.3         9.246675\n",
       "18  241.7   38.0   3.186353          21.8        21.105287\n",
       "19  205.0   45.1   3.025291          22.6        20.878384\n",
       "20  187.8   21.1   2.351375          15.6        15.526113\n",
       "21    0.7   39.6   2.272126           1.6        10.916956\n",
       "22  261.3   42.7   4.019980          24.2        22.829107\n",
       "23  110.7   40.6   4.162003          16.0        15.829156\n",
       "24  280.2   10.1   3.109061          14.8        17.407422\n",
       "25   18.8   21.7   3.939638           7.0         8.171704\n",
       "26   25.6   39.0   2.332144           9.5        11.887384\n",
       "27   44.5   39.3   3.830813          10.4        12.698666\n",
       "28  239.9   41.5   2.970414          23.2        21.712750\n",
       "29   19.6   20.1   2.890372           7.6         7.949202\n",
       "30  131.7   18.4   3.572346          12.9        12.491190\n",
       "31  228.0   37.7   3.496508          21.5        20.432921\n",
       "32   27.5    1.6   3.077312           6.9         4.714431\n",
       "33   28.6    1.5   3.526361           7.3         4.721262\n",
       "34  290.7    4.1   2.251292          12.8        16.750485\n",
       "35  276.7    2.3   3.206803          11.8        15.743849\n",
       "36   80.2    0.0   2.322388           8.8         6.747756\n",
       "37  284.3   10.6   2.001480          15.0        17.737502\n",
       "38   89.7    9.9   3.602777          10.6         9.011700\n",
       "39  222.4    3.4   2.646175          11.5        13.608416"
      ]
     },
     "execution_count": 80,
     "metadata": {},
     "output_type": "execute_result"
    }
   ],
   "source": [
    "new_df"
   ]
  },
  {
   "cell_type": "code",
   "execution_count": 81,
   "id": "86ad0496-f1a6-47a2-924c-bb9334f9202a",
   "metadata": {},
   "outputs": [
    {
     "data": {
      "image/png": "[encoded data removed]",
      "text/plain": [
       "<Figure size 640x480 with 1 Axes>"
      ]
     },
     "metadata": {},
     "output_type": "display_data"
    }
   ],
   "source": [
    "new_df[\"Actual sales\"].plot(color=\"blue\")\n",
    "new_df[\"Predicted sales\"].plot(color=\"orange\")\n",
    "plt.show()"
   ]
  },
  {
   "cell_type": "markdown",
   "id": "90cf6965-d779-4bc4-8fd8-18860813bdd1",
   "metadata": {},
   "source": [
    "## 11. Evaluation of the model "
   ]
  },
  {
   "cell_type": "markdown",
   "id": "de68b9bc-3270-42ca-a576-9b53150a1a45",
   "metadata": {},
   "source": [
    "### R^2, Adjusted R^2, RMSE"
   ]
  },
  {
   "cell_type": "code",
   "execution_count": 84,
   "id": "276ed4e0-d5e3-42ac-a480-aa297ebd2ebc",
   "metadata": {},
   "outputs": [
    {
     "data": {
      "text/plain": [
       "0.9208986647500219"
      ]
     },
     "execution_count": 84,
     "metadata": {},
     "output_type": "execute_result"
    }
   ],
   "source": [
    "lm.score(X_train, Y_train)\n",
    "\n",
    "# Y_pred = lm.predict(X_train)\n",
    "# score = r2_score(Y_train, Y_pred)"
   ]
  },
  {
   "cell_type": "code",
   "execution_count": 85,
   "id": "9a37e7c4-c1f5-4bce-83b6-fc058898cf55",
   "metadata": {},
   "outputs": [],
   "source": [
    "#^^ Since the above code line is executed on the training data, do not quote this to the client. \n",
    "#^^ We send the testing data score to the client which we will be executing in the next block.\n",
    "# ^^ lm.score is not a reliable output hence we check for r^2 and adjusted r^2."
   ]
  },
  {
   "cell_type": "code",
   "execution_count": 86,
   "id": "29d05d64-8474-42c9-acbf-7c372504d3f1",
   "metadata": {},
   "outputs": [
    {
     "name": "stdout",
     "output_type": "stream",
     "text": [
      "R-squared: 0.834801071903532\n",
      "RMSE: 2.59297691109306\n",
      "Adj R-square: 0.8322725168816474\n"
     ]
    }
   ],
   "source": [
    "from sklearn.metrics import r2_score,mean_squared_error\n",
    "import numpy as np\n",
    " \n",
    "r2=r2_score(Y_test,Y_pred)\n",
    "print(\"R-squared:\",r2)\n",
    " \n",
    "rmse=np.sqrt(mean_squared_error(Y_test,Y_pred))\n",
    "print(\"RMSE:\",rmse)\n",
    " \n",
    "adjusted_r_squared = 1 - (1-r2)*(len(Y)-1)/(len(Y)-X.shape[1]-1)\n",
    "print(\"Adj R-square:\",adjusted_r_squared)"
   ]
  },
  {
   "cell_type": "code",
   "execution_count": 87,
   "id": "47f810a9-2daf-45ec-842d-999430f4b452",
   "metadata": {},
   "outputs": [
    {
     "name": "stdout",
     "output_type": "stream",
     "text": [
      "1.6\n",
      "25.5\n"
     ]
    }
   ],
   "source": [
    "print(Y_test.min())\n",
    "print(Y_test.max())"
   ]
  },
  {
   "cell_type": "code",
   "execution_count": 88,
   "id": "305be5ae-7be9-4edd-9ff2-0bdfbbc5156f",
   "metadata": {},
   "outputs": [],
   "source": [
    "# RMSE is low in comparision to the range"
   ]
  },
  {
   "cell_type": "markdown",
   "id": "0e4e2ad1-5d75-4ec7-8dd0-153c107157cc",
   "metadata": {},
   "source": [
    "**Both the R^2 and adj R^2 are close to 1 and close to each other hence the model is a good model.**"
   ]
  },
  {
   "cell_type": "markdown",
   "id": "f3c2b73e-cf64-4342-b3bd-3d47cc9c5f0d",
   "metadata": {},
   "source": [
    "**RMSE value is within the range and on the lower side hence the model is a good model**"
   ]
  },
  {
   "cell_type": "code",
   "execution_count": 91,
   "id": "aeb559d5-aac2-41ac-8c34-bff17006a2f6",
   "metadata": {},
   "outputs": [
    {
     "data": {
      "text/html": [
       "<div>\n",
       "<style scoped>\n",
       "    .dataframe tbody tr th:only-of-type {\n",
       "        vertical-align: middle;\n",
       "    }\n",
       "\n",
       "    .dataframe tbody tr th {\n",
       "        vertical-align: top;\n",
       "    }\n",
       "\n",
       "    .dataframe thead th {\n",
       "        text-align: right;\n",
       "    }\n",
       "</style>\n",
       "<table border=\"1\" class=\"dataframe\">\n",
       "  <thead>\n",
       "    <tr style=\"text-align: right;\">\n",
       "      <th></th>\n",
       "      <th>TV</th>\n",
       "      <th>radio</th>\n",
       "      <th>newspaper</th>\n",
       "      <th>Actual sales</th>\n",
       "      <th>Predicted sales</th>\n",
       "      <th>Residual</th>\n",
       "    </tr>\n",
       "  </thead>\n",
       "  <tbody>\n",
       "    <tr>\n",
       "      <th>0</th>\n",
       "      <td>210.7</td>\n",
       "      <td>29.5</td>\n",
       "      <td>2.332144</td>\n",
       "      <td>18.4</td>\n",
       "      <td>18.150269</td>\n",
       "      <td>0.249731</td>\n",
       "    </tr>\n",
       "    <tr>\n",
       "      <th>1</th>\n",
       "      <td>8.7</td>\n",
       "      <td>48.9</td>\n",
       "      <td>4.330733</td>\n",
       "      <td>7.2</td>\n",
       "      <td>12.961369</td>\n",
       "      <td>-5.761369</td>\n",
       "    </tr>\n",
       "    <tr>\n",
       "      <th>2</th>\n",
       "      <td>218.4</td>\n",
       "      <td>27.7</td>\n",
       "      <td>3.996364</td>\n",
       "      <td>18.0</td>\n",
       "      <td>18.058153</td>\n",
       "      <td>-0.058153</td>\n",
       "    </tr>\n",
       "    <tr>\n",
       "      <th>3</th>\n",
       "      <td>283.6</td>\n",
       "      <td>42.0</td>\n",
       "      <td>4.207673</td>\n",
       "      <td>25.5</td>\n",
       "      <td>23.660251</td>\n",
       "      <td>1.839749</td>\n",
       "    </tr>\n",
       "    <tr>\n",
       "      <th>4</th>\n",
       "      <td>216.4</td>\n",
       "      <td>41.7</td>\n",
       "      <td>3.703768</td>\n",
       "      <td>22.6</td>\n",
       "      <td>20.687510</td>\n",
       "      <td>1.912490</td>\n",
       "    </tr>\n",
       "  </tbody>\n",
       "</table>\n",
       "</div>"
      ],
      "text/plain": [
       "      TV  radio  newspaper  Actual sales  Predicted sales  Residual\n",
       "0  210.7   29.5   2.332144          18.4        18.150269  0.249731\n",
       "1    8.7   48.9   4.330733           7.2        12.961369 -5.761369\n",
       "2  218.4   27.7   3.996364          18.0        18.058153 -0.058153\n",
       "3  283.6   42.0   4.207673          25.5        23.660251  1.839749\n",
       "4  216.4   41.7   3.703768          22.6        20.687510  1.912490"
      ]
     },
     "execution_count": 91,
     "metadata": {},
     "output_type": "execute_result"
    }
   ],
   "source": [
    "new_df['Residual']= new_df['Actual sales'] - new_df['Predicted sales']\n",
    "new_df.to_excel(\"Sales Prediction.xlsx\", header = True, index = True)\n",
    "new_df.head()"
   ]
  },
  {
   "cell_type": "code",
   "execution_count": 92,
   "id": "d4036a85-3754-44cc-b126-9531df30ed3f",
   "metadata": {},
   "outputs": [],
   "source": [
    "# ^^ we are only comparing since we have split the original data. \n",
    "# in the real world, we wont get test data output and we will have to assume the values we predicted to be the best ones and quote it to the client."
   ]
  },
  {
   "cell_type": "code",
   "execution_count": 150,
   "id": "b8cfc0fa-25c3-413f-a72b-accfcd65d42e",
   "metadata": {},
   "outputs": [
    {
     "data": {
      "text/plain": [
       "'C:\\\\Users\\\\bsai1\\\\Data Science Notes\\\\Upload to github'"
      ]
     },
     "execution_count": 150,
     "metadata": {},
     "output_type": "execute_result"
    }
   ],
   "source": [
    "import os\n",
    "os.getcwd()"
   ]
  },
  {
   "cell_type": "markdown",
   "id": "59c03688-e59a-4493-9798-e204c9da6903",
   "metadata": {},
   "source": [
    "## 12. Tuning"
   ]
  },
  {
   "cell_type": "markdown",
   "id": "f3ad524b-41dc-419f-b7db-6c8d2da30fe7",
   "metadata": {},
   "source": [
    "### Ridge"
   ]
  },
  {
   "cell_type": "code",
   "execution_count": 96,
   "id": "1ca6a31b-1b19-4e9d-be7b-aef69abdc650",
   "metadata": {},
   "outputs": [
    {
     "name": "stdout",
     "output_type": "stream",
     "text": [
      "3.3522471725966003\n",
      "[ 0.04374234  0.19302603 -0.04853131]\n"
     ]
    }
   ],
   "source": [
    "from sklearn.linear_model import Ridge\n",
    "# Create a model object\n",
    "rid = Ridge()\n",
    "# Train the emodel object\n",
    "rid.fit(X_train,Y_train)\n",
    "\n",
    "# Print intercept and cofficients\n",
    "print(rid.intercept_)\n",
    "print(rid.coef_)"
   ]
  },
  {
   "cell_type": "code",
   "execution_count": 97,
   "id": "4246f65c-e6f2-49b2-af72-7075080c4b12",
   "metadata": {},
   "outputs": [
    {
     "name": "stdout",
     "output_type": "stream",
     "text": [
      "[18.14984366 12.961602   18.05844603 23.66046356 20.68752578 14.26318679\n",
      " 14.9278479  21.38857787 21.14736702 12.75811738 23.99745819  7.20656373\n",
      " 12.30813313 19.22822402 19.41619189 13.44941112 19.62559951  9.24628306\n",
      " 21.1051215  20.87807898 15.52579217 10.91642817 22.82923662 15.82939321\n",
      " 17.40752649  8.17207209 11.88688403 12.69878967 21.71245614  7.94914659\n",
      " 12.49142141 20.43289143  4.71465713  4.7216782  16.75029355 15.74408175\n",
      "  6.74767421 17.73713545  9.01204512 13.60840942]\n"
     ]
    }
   ],
   "source": [
    "Y_pred = rid.predict(X_test)\n",
    "print(Y_pred)"
   ]
  },
  {
   "cell_type": "code",
   "execution_count": 98,
   "id": "f6fa09a2-e7b3-4751-94da-90f9c426b906",
   "metadata": {},
   "outputs": [
    {
     "name": "stdout",
     "output_type": "stream",
     "text": [
      "R-squared: 0.8348082644975934\n",
      "RMSE: 2.592920462683998\n",
      "Adj R-square: 0.832279819566434\n"
     ]
    }
   ],
   "source": [
    "from sklearn.metrics import r2_score,mean_squared_error\n",
    "import numpy as np\n",
    " \n",
    "r2=r2_score(Y_test,Y_pred)\n",
    "print(\"R-squared:\",r2)\n",
    " \n",
    "rmse=np.sqrt(mean_squared_error(Y_test,Y_pred))\n",
    "print(\"RMSE:\",rmse)\n",
    " \n",
    "adjusted_r_squared = 1 - (1-r2)*(len(Y)-1)/(len(Y)-X.shape[1]-1)\n",
    "print(\"Adj R-square:\",adjusted_r_squared)"
   ]
  },
  {
   "cell_type": "markdown",
   "id": "3327a2c2-5100-438d-a721-36cbc2a5c18a",
   "metadata": {},
   "source": [
    "### Lasso"
   ]
  },
  {
   "cell_type": "code",
   "execution_count": 100,
   "id": "78a610a2-ee60-4d7f-a532-bfd035b4553e",
   "metadata": {},
   "outputs": [
    {
     "name": "stdout",
     "output_type": "stream",
     "text": [
      "3.3367940582203186\n",
      "[ 0.04362374  0.18766033 -0.        ]\n"
     ]
    }
   ],
   "source": [
    "from sklearn.linear_model import Lasso\n",
    "# Create a model object\n",
    "lasso = Lasso()\n",
    "# Train the emodel object\n",
    "lasso.fit(X_train,Y_train)\n",
    "\n",
    "# Print intercept and cofficients\n",
    "print(lasso.intercept_)\n",
    "print(lasso.coef_)"
   ]
  },
  {
   "cell_type": "code",
   "execution_count": 101,
   "id": "7edc2faa-dc37-4559-9bfc-a2d97f42fd68",
   "metadata": {},
   "outputs": [
    {
     "name": "stdout",
     "output_type": "stream",
     "text": [
      "[18.06429565 12.89291061 18.06240985 23.59022036 20.60240696 14.24765273\n",
      " 14.95215852 21.28397604 21.03270918 12.70073142 23.91262327  7.30875314\n",
      " 12.27479157 19.18615151 19.40987087 13.37169781 19.52635995  9.18340605\n",
      " 21.01174436 20.74314144 15.48896526 10.79867965 22.74877319 15.78495133\n",
      " 17.45553519  8.22914947 11.77231457 12.65310134 21.59003277  7.96379194\n",
      " 12.53499059 20.35780103  4.83670342  4.8659235  16.78762249 15.83910155\n",
      "  6.83541797 17.72822269  9.10768074 13.67675885]\n"
     ]
    }
   ],
   "source": [
    "Y_pred = lasso.predict(X_test)\n",
    "print(Y_pred)"
   ]
  },
  {
   "cell_type": "code",
   "execution_count": 102,
   "id": "53d84701-3235-4d9e-9494-f0397cf6f897",
   "metadata": {},
   "outputs": [
    {
     "name": "stdout",
     "output_type": "stream",
     "text": [
      "R-squared: 0.8360506658527163\n",
      "RMSE: 2.5831514271094234\n",
      "Adj R-square: 0.8335412372688292\n"
     ]
    }
   ],
   "source": [
    "from sklearn.metrics import r2_score,mean_squared_error\n",
    "import numpy as np\n",
    " \n",
    "r2=r2_score(Y_test,Y_pred)\n",
    "print(\"R-squared:\",r2)\n",
    " \n",
    "rmse=np.sqrt(mean_squared_error(Y_test,Y_pred))\n",
    "print(\"RMSE:\",rmse)\n",
    " \n",
    "adjusted_r_squared = 1 - (1-r2)*(len(Y)-1)/(len(Y)-X.shape[1]-1)\n",
    "print(\"Adj R-square:\",adjusted_r_squared)"
   ]
  },
  {
   "cell_type": "markdown",
   "id": "12eec8b7-3903-480b-a5e2-7218cc749c18",
   "metadata": {},
   "source": [
    "### ElasticNet"
   ]
  },
  {
   "cell_type": "code",
   "execution_count": 104,
   "id": "c5e7bac5-4acc-4264-9aba-043cc8cdfac7",
   "metadata": {},
   "outputs": [
    {
     "name": "stdout",
     "output_type": "stream",
     "text": [
      "3.286744514338503\n",
      "[ 0.04367408  0.1895869  -0.        ]\n"
     ]
    }
   ],
   "source": [
    "from sklearn.linear_model import ElasticNet\n",
    "# Create a model object\n",
    "en = ElasticNet(alpha=1, l1_ratio=0.5) \n",
    "# Train the emodel object\n",
    "en.fit(X_train,Y_train)\n",
    "\n",
    "# Print intercept and cofficients\n",
    "print(en.intercept_)\n",
    "print(en.coef_)"
   ]
  },
  {
   "cell_type": "code",
   "execution_count": 105,
   "id": "a5934fbc-0cf7-443b-bb3b-a43364d1e0a8",
   "metadata": {},
   "outputs": [],
   "source": [
    "# l1_ratio -> lasso; this can be changed\n",
    "# alpha=1-> by default"
   ]
  },
  {
   "cell_type": "code",
   "execution_count": 106,
   "id": "836ce546-a913-4612-b8dd-24cf19e279f1",
   "metadata": {},
   "outputs": [
    {
     "name": "stdout",
     "output_type": "stream",
     "text": [
      "[18.08168728 12.93750823 18.07672131 23.63536414 20.64358968 14.25106378\n",
      " 14.94646461 21.33911232 21.07815048 12.73997725 23.95865212  7.27320541\n",
      " 12.30978386 19.21116481 19.43360335 13.38384497 19.54099287  9.19123274\n",
      " 21.04707247 20.79030057 15.48902085 10.82495743 22.79414291 15.81869349\n",
      " 17.43905029  8.22185291 11.79868997 12.68100621 21.63201326  7.95345315\n",
      " 12.52702016 20.39186146  4.79112084  4.82020364 16.7601068  15.80741322\n",
      "  6.78940599 17.71290748  9.08122005 13.64445608]\n"
     ]
    }
   ],
   "source": [
    "Y_pred = en.predict(X_test)\n",
    "print(Y_pred)"
   ]
  },
  {
   "cell_type": "code",
   "execution_count": 107,
   "id": "e5556e0a-bbe3-4582-adb3-3e2193d94902",
   "metadata": {},
   "outputs": [
    {
     "name": "stdout",
     "output_type": "stream",
     "text": [
      "R-squared: 0.8358845632451918\n",
      "RMSE: 2.5844596348220477\n",
      "Adj R-square: 0.8333725922744549\n"
     ]
    }
   ],
   "source": [
    "from sklearn.metrics import r2_score,mean_squared_error\n",
    "import numpy as np\n",
    " \n",
    "r2=r2_score(Y_test,Y_pred)\n",
    "print(\"R-squared:\",r2)\n",
    " \n",
    "rmse=np.sqrt(mean_squared_error(Y_test,Y_pred))\n",
    "print(\"RMSE:\",rmse)\n",
    " \n",
    "adjusted_r_squared = 1 - (1-r2)*(len(Y)-1)/(len(Y)-X.shape[1]-1)\n",
    "print(\"Adj R-square:\",adjusted_r_squared)"
   ]
  },
  {
   "cell_type": "markdown",
   "id": "1cecd30e-ae09-4abb-9522-ca68f90aaa07",
   "metadata": {},
   "source": [
    "R-squared: 0.834801071903532  # Base  \n",
    "R-squared: 0.8348082644975934 # Ridge  \n",
    "R-squared: 0.8360506658527163 # Lasso  \n",
    "R-squared: 0.8358845632451918 # ElasticNet  \n",
    "\n",
    "RMSE: 2.59297691109306  # Base  \n",
    "RMSE: 2.592920462683998 # Ridge  \n",
    "RMSE: 2.5831514271094234 # Lasso  \n",
    "RMSE: 2.5844596348220477 # ElasticNet  \n",
    "\n",
    "Adj R-square: 0.8322725168816474 # Base  \n",
    "Adj R-square: 0.832279819566434  # Ridge  \n",
    "Adj R-square: 0.8335412372688292 # Lasso  \n",
    "Adj R-square: 0.8333725922744549 # ElasticNet  "
   ]
  },
  {
   "cell_type": "markdown",
   "id": "bae24f1f-a6a4-4069-b0ed-19902ff41d0b",
   "metadata": {},
   "source": [
    "**Out of all the models executed above, LASSO provided us with the best results.**"
   ]
  },
  {
   "cell_type": "markdown",
   "id": "8e7de0d4-f059-4b95-8862-9ef0f1f83db8",
   "metadata": {},
   "source": [
    "## Using statsmodels library"
   ]
  },
  {
   "cell_type": "code",
   "execution_count": 111,
   "id": "6f194054-ccc1-44dc-9bf1-e15658628df2",
   "metadata": {},
   "outputs": [],
   "source": [
    "# OLS --> OLS(Y_train, X_train)\n",
    "# ols --> ols(Y~ X1 + X2 + X3)"
   ]
  },
  {
   "cell_type": "code",
   "execution_count": 112,
   "id": "76706389-153a-4804-8abb-f8505267c152",
   "metadata": {},
   "outputs": [],
   "source": [
    "# fit(X_train, Y_train) --> sklearn\n",
    "# Y~ X1 + X2 + X3, data = df --> statsmodels"
   ]
  },
  {
   "cell_type": "code",
   "execution_count": 113,
   "id": "e0bdf1ab-91ac-44f2-b2e9-dfdee97f6464",
   "metadata": {},
   "outputs": [
    {
     "data": {
      "text/plain": [
       "(160, 4)"
      ]
     },
     "execution_count": 113,
     "metadata": {},
     "output_type": "execute_result"
    }
   ],
   "source": [
    "new_df=pd.DataFrame()\n",
    "new_df=X_train.copy()\n",
    " \n",
    "new_df[\"sales\"]=Y_train.copy()\n",
    "new_df.shape"
   ]
  },
  {
   "cell_type": "code",
   "execution_count": 114,
   "id": "8342d152-7313-4dd0-a90a-0f0f26fe016b",
   "metadata": {},
   "outputs": [
    {
     "name": "stdout",
     "output_type": "stream",
     "text": [
      "Intercept    3.353291\n",
      "TV           0.043743\n",
      "radio        0.193037\n",
      "newspaper   -0.048951\n",
      "dtype: float64\n",
      "                            OLS Regression Results                            \n",
      "==============================================================================\n",
      "Dep. Variable:                  sales   R-squared:                       0.921\n",
      "Model:                            OLS   Adj. R-squared:                  0.919\n",
      "Method:                 Least Squares   F-statistic:                     605.4\n",
      "Date:                Mon, 28 Apr 2025   Prob (F-statistic):           1.10e-85\n",
      "Time:                        16:09:07   Log-Likelihood:                -276.63\n",
      "No. Observations:                 160   AIC:                             561.3\n",
      "Df Residuals:                     156   BIC:                             573.6\n",
      "Df Model:                           3                                         \n",
      "Covariance Type:            nonrobust                                         \n",
      "==============================================================================\n",
      "                 coef    std err          t      P>|t|      [0.025      0.975]\n",
      "------------------------------------------------------------------------------\n",
      "Intercept      3.3533      0.442      7.578      0.000       2.479       4.227\n",
      "TV             0.0437      0.001     32.516      0.000       0.041       0.046\n",
      "radio          0.1930      0.008     24.946      0.000       0.178       0.208\n",
      "newspaper     -0.0490      0.125     -0.391      0.697      -0.297       0.199\n",
      "==============================================================================\n",
      "Omnibus:                       12.594   Durbin-Watson:                   2.106\n",
      "Prob(Omnibus):                  0.002   Jarque-Bera (JB):               13.403\n",
      "Skew:                          -0.699   Prob(JB):                      0.00123\n",
      "Kurtosis:                       3.237   Cond. No.                         697.\n",
      "==============================================================================\n",
      "\n",
      "Notes:\n",
      "[1] Standard Errors assume that the covariance matrix of the errors is correctly specified.\n"
     ]
    }
   ],
   "source": [
    "import statsmodels.formula.api as sm\n",
    " \n",
    "# create a fitted model with all three features\n",
    "lm_model = sm.ols(formula='sales ~ TV + radio + newspaper', \n",
    "                  data=new_df).fit()\n",
    " \n",
    "# print the coefficients\n",
    "print(lm_model.params)\n",
    "print(lm_model.summary())"
   ]
  },
  {
   "cell_type": "code",
   "execution_count": 115,
   "id": "4c74dbe9-8bef-4b7c-88d1-68d6a23a2733",
   "metadata": {},
   "outputs": [],
   "source": [
    "# from first table\n",
    "# lm.score(X_train, Y_train) = 0.9208986647500219 is what is the r^2 value in the above output \n",
    "\n",
    "# from second table\n",
    "# "
   ]
  },
  {
   "cell_type": "code",
   "execution_count": 116,
   "id": "1cf63775-4131-4066-b7a2-12f451787326",
   "metadata": {},
   "outputs": [],
   "source": [
    "Y_pred = lm_model.predict(X_test)"
   ]
  },
  {
   "cell_type": "code",
   "execution_count": 117,
   "id": "aec5a175-aaf7-424a-a1a1-159bf10b76fa",
   "metadata": {},
   "outputs": [
    {
     "name": "stdout",
     "output_type": "stream",
     "text": [
      "R-squared: 0.8348010719035376\n",
      "RMSE: 2.5929769110930163\n",
      "Adj R-square: 0.8322725168816529\n"
     ]
    }
   ],
   "source": [
    "from sklearn.metrics import r2_score,mean_squared_error\n",
    "import numpy as np\n",
    " \n",
    "r2=r2_score(Y_test,Y_pred)\n",
    "print(\"R-squared:\",r2)\n",
    " \n",
    "rmse=np.sqrt(mean_squared_error(Y_test,Y_pred))\n",
    "print(\"RMSE:\",rmse)\n",
    "\n",
    "adjusted_r_squared = 1 - (1-r2)*(len(Y)-1)/(len(Y)-X.shape[1]-1)\n",
    "print(\"Adj R-square:\",adjusted_r_squared)\n"
   ]
  },
  {
   "cell_type": "markdown",
   "id": "c50546f2-a85e-4f9a-90bd-a6386bc3e134",
   "metadata": {},
   "source": [
    "# Post Model Building Assumptions"
   ]
  },
  {
   "cell_type": "markdown",
   "id": "395f2beb-de39-4788-bf86-d27804e8710f",
   "metadata": {},
   "source": [
    "## 13. Assumption 5: There should be no auto-correlation in data"
   ]
  },
  {
   "cell_type": "markdown",
   "id": "e5657b5c-7455-443e-b02e-de22fa42ed3d",
   "metadata": {},
   "source": [
    "### Durbin Watson Test"
   ]
  },
  {
   "cell_type": "code",
   "execution_count": 121,
   "id": "d3c34603-2d08-479c-b77b-93413691fdf9",
   "metadata": {},
   "outputs": [
    {
     "name": "stdout",
     "output_type": "stream",
     "text": [
      "Intercept    3.217026\n",
      "TV           0.043721\n",
      "radio        0.192425\n",
      "dtype: float64\n",
      "                            OLS Regression Results                            \n",
      "==============================================================================\n",
      "Dep. Variable:                  sales   R-squared:                       0.921\n",
      "Model:                            OLS   Adj. R-squared:                  0.920\n",
      "Method:                 Least Squares   F-statistic:                     912.9\n",
      "Date:                Mon, 28 Apr 2025   Prob (F-statistic):           3.47e-87\n",
      "Time:                        16:09:07   Log-Likelihood:                -276.70\n",
      "No. Observations:                 160   AIC:                             559.4\n",
      "Df Residuals:                     157   BIC:                             568.6\n",
      "Df Model:                           2                                         \n",
      "Covariance Type:            nonrobust                                         \n",
      "==============================================================================\n",
      "                 coef    std err          t      P>|t|      [0.025      0.975]\n",
      "------------------------------------------------------------------------------\n",
      "Intercept      3.2170      0.271     11.855      0.000       2.681       3.753\n",
      "TV             0.0437      0.001     32.616      0.000       0.041       0.046\n",
      "radio          0.1924      0.008     25.462      0.000       0.177       0.207\n",
      "==============================================================================\n",
      "Omnibus:                       12.555   Durbin-Watson:                   2.100\n",
      "Prob(Omnibus):                  0.002   Jarque-Bera (JB):               13.347\n",
      "Skew:                          -0.697   Prob(JB):                      0.00126\n",
      "Kurtosis:                       3.241   Cond. No.                         418.\n",
      "==============================================================================\n",
      "\n",
      "Notes:\n",
      "[1] Standard Errors assume that the covariance matrix of the errors is correctly specified.\n"
     ]
    }
   ],
   "source": [
    "import statsmodels.formula.api as sm\n",
    " \n",
    "# create a fitted model with all three features\n",
    "lm_model = sm.ols(formula='sales ~ TV + radio', \n",
    "                  data=new_df).fit()\n",
    " \n",
    "# print the coefficients\n",
    "print(lm_model.params)\n",
    "print(lm_model.summary())"
   ]
  },
  {
   "cell_type": "code",
   "execution_count": 122,
   "id": "a256ce93-8ccf-440d-bfd6-c84815715f70",
   "metadata": {},
   "outputs": [],
   "source": [
    "Y_pred = lm_model.predict(X_test)"
   ]
  },
  {
   "cell_type": "code",
   "execution_count": 123,
   "id": "6e3beed0-781e-4b9a-8558-1368eec5eb60",
   "metadata": {},
   "outputs": [
    {
     "name": "stdout",
     "output_type": "stream",
     "text": [
      "R-squared: 0.8354496662944217\n",
      "RMSE: 2.5878817077378105\n",
      "Adj R-square: 0.8329310387377037\n"
     ]
    }
   ],
   "source": [
    "from sklearn.metrics import r2_score,mean_squared_error\n",
    "import numpy as np\n",
    " \n",
    "r2=r2_score(Y_test,Y_pred)\n",
    "print(\"R-squared:\",r2)\n",
    " \n",
    "rmse=np.sqrt(mean_squared_error(Y_test,Y_pred))\n",
    "print(\"RMSE:\",rmse)\n",
    "\n",
    "adjusted_r_squared = 1 - (1-r2)*(len(Y)-1)/(len(Y)-X.shape[1]-1)\n",
    "print(\"Adj R-square:\",adjusted_r_squared)"
   ]
  },
  {
   "cell_type": "markdown",
   "id": "d59f3644-5e24-4ba3-9779-97c91e1df743",
   "metadata": {},
   "source": [
    "**LASSO gives us the best results, hence going forward we will make use of the LASSO model.**"
   ]
  },
  {
   "cell_type": "markdown",
   "id": "176903ef-99e7-4f4f-b172-88b6198c4024",
   "metadata": {},
   "source": [
    "## 14. Assumption 6: Errors should be random"
   ]
  },
  {
   "cell_type": "markdown",
   "id": "87ccd80e-84b6-4579-a3ab-9f238d53866c",
   "metadata": {},
   "source": [
    "### Fitted vs Residual plot"
   ]
  },
  {
   "cell_type": "code",
   "execution_count": 127,
   "id": "6d3a69f0-eacd-4ffd-9015-e3eba28c83cb",
   "metadata": {},
   "outputs": [
    {
     "data": {
      "image/png": "[encoded data removed]",
      "text/plain": [
       "<Figure size 640x480 with 1 Axes>"
      ]
     },
     "metadata": {},
     "output_type": "display_data"
    }
   ],
   "source": [
    "# checked using Residual v/s Fitted plot\n",
    "model_fitted_y = lm_model.fittedvalues\n",
    "sns.residplot(x=model_fitted_y, y='sales', data=new_df, lowess=True)\n",
    "plt.xlabel('Fitted values')\n",
    "plt.ylabel('Residuals')\n",
    "plt.show()"
   ]
  },
  {
   "cell_type": "markdown",
   "id": "6b19b845-5e5f-4a2d-ad6d-909d1f1645a3",
   "metadata": {},
   "source": [
    "**The line fitted into this errors should be a random line and should not show a typical wave like pattern.**"
   ]
  },
  {
   "cell_type": "code",
   "execution_count": 129,
   "id": "ec04f4d4-3259-4606-8268-8ab6f4807270",
   "metadata": {},
   "outputs": [],
   "source": [
    "# if a wave like pattern is observed then reconsider the data we are working on, if anything needs to be shuffled any var needs to be eliminated."
   ]
  },
  {
   "cell_type": "markdown",
   "id": "3609ef50-9ab0-496c-a915-48e7c65b1454",
   "metadata": {},
   "source": [
    "## 15. Assumption 7: Errors should follow an approximate normal distribution"
   ]
  },
  {
   "cell_type": "markdown",
   "id": "2430edca-2923-44d1-9774-1292b29bd466",
   "metadata": {},
   "source": [
    "### Normal QQ plot"
   ]
  },
  {
   "cell_type": "code",
   "execution_count": 132,
   "id": "c3e201a0-9752-4d80-94c2-8dff41b4cc6d",
   "metadata": {},
   "outputs": [
    {
     "data": {
      "image/png": "[encoded data removed]",
      "text/plain": [
       "<Figure size 640x480 with 1 Axes>"
      ]
     },
     "metadata": {},
     "output_type": "display_data"
    }
   ],
   "source": [
    "#checked using Normal QQ plot\n",
    "import statsmodels.api as sma\n",
    "sma.qqplot(lm_model.resid, line='s')\n",
    "plt.show()"
   ]
  },
  {
   "cell_type": "markdown",
   "id": "6cdf3bca-02ae-4418-b89c-7b97fcc37666",
   "metadata": {},
   "source": [
    "**The red diagonal line in the graph indicates normal distribution. If majority of the error points fall along the red diagonal line we can conclude that the errors do follow an approximate normal distribution.**"
   ]
  },
  {
   "cell_type": "markdown",
   "id": "058ec858-d6cf-49e4-b0e9-7a2c28dda472",
   "metadata": {},
   "source": [
    "## 16. Assumption 8: Errors should follow constant variance (Homoskedasticity)"
   ]
  },
  {
   "cell_type": "markdown",
   "id": "ab2ee488-c832-4c56-b85c-ce41580d64d9",
   "metadata": {},
   "source": [
    "### Scale Location plot"
   ]
  },
  {
   "cell_type": "code",
   "execution_count": 136,
   "id": "ba3aaa86-fa6c-4acb-ae86-9534a4040b80",
   "metadata": {},
   "outputs": [
    {
     "data": {
      "image/png": "[encoded data removed]",
      "text/plain": [
       "<Figure size 640x480 with 1 Axes>"
      ]
     },
     "metadata": {},
     "output_type": "display_data"
    }
   ],
   "source": [
    "#checked using Scale location plot\n",
    "model_norm_residuals_abs_sqrt=np.sqrt(np.abs(lm_model.resid))\n",
    " \n",
    "sns.regplot(x=lm_model.fittedvalues,\n",
    "            y=model_norm_residuals_abs_sqrt,\n",
    "              scatter=True, lowess=True)        \n",
    "plt.ylabel(\"Standarized residuals\")\n",
    "plt.xlabel(\"Fitted value\")\n",
    "plt.show()"
   ]
  },
  {
   "cell_type": "markdown",
   "id": "f9e97da3-e5df-44e2-8840-acca29418772",
   "metadata": {},
   "source": [
    "**We can observe an approximate horizontal line hence we can conclude that the errors follows a constant variance**"
   ]
  }
 ],
 "metadata": {
  "kernelspec": {
   "display_name": "Python [conda env:base] *",
   "language": "python",
   "name": "conda-base-py"
  },
  "language_info": {
   "codemirror_mode": {
    "name": "ipython",
    "version": 3
   },
   "file_extension": ".py",
   "mimetype": "text/x-python",
   "name": "python",
   "nbconvert_exporter": "python",
   "pygments_lexer": "ipython3",
   "version": "3.12.7"
  }
 },
 "nbformat": 4,
 "nbformat_minor": 5
}
